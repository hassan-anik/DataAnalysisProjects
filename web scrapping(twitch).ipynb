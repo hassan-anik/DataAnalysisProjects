{
 "cells": [
  {
   "cell_type": "code",
   "execution_count": 1,
   "id": "fbf3c8ee",
   "metadata": {},
   "outputs": [],
   "source": [
    "import requests\n",
    "from bs4 import BeautifulSoup"
   ]
  },
  {
   "cell_type": "code",
   "execution_count": 12,
   "id": "1cc86f3e",
   "metadata": {},
   "outputs": [],
   "source": [
    "url=\"https://www.twitch.tv/\""
   ]
  },
  {
   "cell_type": "code",
   "execution_count": 13,
   "id": "bedbf65b",
   "metadata": {},
   "outputs": [],
   "source": [
    "r = requests.get(url)\n",
    "htmlContent = r.content\n",
    "#htmlContent"
   ]
  },
  {
   "cell_type": "code",
   "execution_count": 57,
   "id": "40b72581",
   "metadata": {},
   "outputs": [],
   "source": [
    "soup = BeautifulSoup(htmlContent, 'html.parser')\n",
    "#print(soup.prettify)"
   ]
  },
  {
   "cell_type": "code",
   "execution_count": 24,
   "id": "2da3dce7",
   "metadata": {},
   "outputs": [
    {
     "data": {
      "text/plain": [
       "<title>Twitch</title>"
      ]
     },
     "execution_count": 24,
     "metadata": {},
     "output_type": "execute_result"
    }
   ],
   "source": [
    "title = soup.title\n",
    "title"
   ]
  },
  {
   "cell_type": "code",
   "execution_count": 25,
   "id": "d25f3161",
   "metadata": {},
   "outputs": [
    {
     "data": {
      "text/plain": [
       "[]"
      ]
     },
     "execution_count": 25,
     "metadata": {},
     "output_type": "execute_result"
    }
   ],
   "source": [
    "para = soup.find_all('p')\n",
    "#para"
   ]
  },
  {
   "cell_type": "code",
   "execution_count": 28,
   "id": "4f1d62c1",
   "metadata": {},
   "outputs": [
    {
     "data": {
      "text/plain": [
       "[]"
      ]
     },
     "execution_count": 28,
     "metadata": {},
     "output_type": "execute_result"
    }
   ],
   "source": [
    "anchor = soup.find_all('a')\n",
    "#anchor"
   ]
  },
  {
   "cell_type": "code",
   "execution_count": 55,
   "id": "e93b4b47",
   "metadata": {},
   "outputs": [
    {
     "name": "stdout",
     "output_type": "stream",
     "text": [
      "https://m.twitch.tv\n",
      "https://www.twitch.tv\n",
      "https://www.twitch.tv/?lang=bg\n",
      "https://www.twitch.tv/?lang=cs\n",
      "https://www.twitch.tv/?lang=da\n",
      "https://www.twitch.tv/?lang=de\n",
      "https://www.twitch.tv/?lang=el\n",
      "https://www.twitch.tv/?lang=es\n",
      "https://www.twitch.tv/?lang=es-mx\n",
      "https://www.twitch.tv/?lang=fi\n",
      "https://www.twitch.tv/?lang=fr\n",
      "https://www.twitch.tv/?lang=hu\n",
      "https://www.twitch.tv/?lang=it\n",
      "https://www.twitch.tv/?lang=ja\n",
      "https://www.twitch.tv/?lang=ko\n",
      "https://www.twitch.tv/?lang=nl\n",
      "https://www.twitch.tv/?lang=no\n",
      "https://www.twitch.tv/?lang=pl\n",
      "https://www.twitch.tv/?lang=pt\n",
      "https://www.twitch.tv/?lang=pt-br\n",
      "https://www.twitch.tv/?lang=ro\n",
      "https://www.twitch.tv/?lang=ru\n",
      "https://www.twitch.tv/?lang=sk\n",
      "https://www.twitch.tv/?lang=sv\n",
      "https://www.twitch.tv/?lang=th\n",
      "https://www.twitch.tv/?lang=tr\n",
      "https://www.twitch.tv/?lang=vi\n",
      "https://www.twitch.tv/?lang=zh-cn\n",
      "https://www.twitch.tv/?lang=zh-tw\n",
      "https://www.twitch.tv\n",
      "https://static.twitchcdn.net/assets/favicon-32-e29e246c157142c94346.png\n",
      "https://static.twitchcdn.net/assets/favicon-16-52e571ffea063af7a7f4.png\n",
      "https://api.twitch.tv/\n",
      "https://passport.twitch.tv/\n",
      "https://static-cdn.jtvnw.net/\n",
      "https://api.twitch.tv/\n",
      "https://static-cdn.jtvnw.net/\n",
      "https://gql.twitch.tv/\n",
      "https://cvp.twitch.tv/\n",
      "https://irc-ws.chat.twitch.tv/\n",
      "https://pubsub-edge.twitch.tv/\n",
      "https://static.twitchcdn.net/\n",
      "https://gql.twitch.tv/\n",
      "https://static.twitchcdn.net/\n",
      "https://cvp.twitch.tv/\n",
      "/opensearch.xml\n",
      "https://static.twitchcdn.net/assets/core-e80ac8e08c5f0b839a9d.css\n"
     ]
    }
   ],
   "source": [
    "link = soup.find_all('link')\n",
    "all_links = set()\n",
    "for a in link:\n",
    "        href=a.get('href')\n",
    "        print(href)"
   ]
  },
  {
   "cell_type": "code",
   "execution_count": 66,
   "id": "0ce7d3b2",
   "metadata": {},
   "outputs": [
    {
     "name": "stdout",
     "output_type": "stream",
     "text": [
      "None\n",
      "tv.twitch.android.app\n",
      "id460177396\n",
      "Twitch\n",
      "Twitch is an interactive livestreaming service for content spanning gaming, entertainment, sports, music, and more. There’s something for everyone on Twitch.\n",
      "Twitch\n",
      "twitch.tv\n",
      "https://static-cdn.jtvnw.net/ttv-static-metadata/twitch_logo3.jpg\n",
      "Twitch\n",
      "Twitch\n",
      "twitch.tv\n",
      "@twitch\n",
      "https://static-cdn.jtvnw.net/ttv-static-metadata/twitch_logo3.jpg\n",
      "twitch.tv\n",
      "tv.twitch.android.app\n",
      "id460177396\n",
      "twitch.tv\n",
      "https://www.twitch.tv\n",
      "index\n",
      "161273083968709\n",
      "Twitch\n",
      "Twitch\n",
      "Twitch is an interactive livestreaming service for content spanning gaming, entertainment, sports, music, and more. There’s something for everyone on Twitch.\n",
      "Twitch\n",
      "website\n",
      "summary\n",
      "Twitch\n",
      "id460177396\n",
      "Twitch\n",
      "Twitch is an interactive livestreaming service for content spanning gaming, entertainment, sports, music, and more. There’s something for everyone on Twitch.\n",
      "Al4GgLnwUTx/Mj0WaK4mK57NRcL9E17I2UF7y650onwBWtPuXM4hlUhhoB/P3cc2WCrHFsARHeRUw5adb9KfCQ4AAABieyJvcmlnaW4iOiJodHRwczovL3R3aXRjaC50djo0NDMiLCJmZWF0dXJlIjoiV2ViVHJhbnNwb3J0IiwiZXhwaXJ5IjoxNjQzNzU5OTk5LCJpc1N1YmRvbWFpbiI6dHJ1ZX0=\n",
      "Ag8gjMC7YpL/OUcwEHEkvOQaTSL//OWmEo9qcm/0rXZjbHCcN4YmRh7aBjNBOmmLwO3JqWrSUL6Qg1+eTmmXxAQAAABqeyJvcmlnaW4iOiJodHRwczovL3R3aXRjaC50djo0NDMiLCJmZWF0dXJlIjoiTWVkaWFTb3VyY2VJbldvcmtlcnMiLCJleHBpcnkiOjE2NDc5OTM1OTksImlzU3ViZG9tYWluIjp0cnVlfQ==\n"
     ]
    }
   ],
   "source": [
    "id = soup.find_all('meta')\n",
    "for i in id:\n",
    "        ids = i.get('content')\n",
    "        print(ids)"
   ]
  },
  {
   "cell_type": "code",
   "execution_count": 70,
   "id": "f8453356",
   "metadata": {},
   "outputs": [
    {
     "data": {
      "text/plain": [
       "'Twitch'"
      ]
     },
     "execution_count": 70,
     "metadata": {},
     "output_type": "execute_result"
    }
   ],
   "source": [
    "elem = soup.get_text()\n",
    "elem"
   ]
  },
  {
   "cell_type": "code",
   "execution_count": 75,
   "id": "ef732473",
   "metadata": {},
   "outputs": [
    {
     "name": "stdout",
     "output_type": "stream",
     "text": [
      "body\n"
     ]
    }
   ],
   "source": [
    "import re\n",
    "for tag in soup.find_all(re.compile(\"^b\")):\n",
    "    print(tag.name)"
   ]
  },
  {
   "cell_type": "code",
   "execution_count": 76,
   "id": "1f6ad071",
   "metadata": {},
   "outputs": [
    {
     "name": "stdout",
     "output_type": "stream",
     "text": [
      "html\n",
      "meta\n",
      "title\n",
      "meta\n",
      "meta\n",
      "meta\n",
      "meta\n",
      "meta\n",
      "meta\n",
      "meta\n",
      "meta\n",
      "meta\n",
      "meta\n",
      "meta\n",
      "meta\n",
      "meta\n",
      "meta\n",
      "meta\n",
      "meta\n",
      "meta\n",
      "meta\n",
      "meta\n",
      "meta\n",
      "meta\n",
      "meta\n",
      "meta\n",
      "meta\n",
      "meta\n",
      "meta\n",
      "meta\n",
      "meta\n",
      "meta\n",
      "script\n",
      "script\n",
      "meta\n",
      "meta\n",
      "style\n",
      "script\n",
      "path\n",
      "path\n",
      "path\n",
      "script\n",
      "script\n",
      "script\n",
      "script\n",
      "script\n",
      "script\n",
      "script\n"
     ]
    }
   ],
   "source": [
    "for tag in soup.find_all(re.compile(\"t\")):\n",
    "    print(tag.name)"
   ]
  },
  {
   "cell_type": "code",
   "execution_count": 77,
   "id": "837088c3",
   "metadata": {},
   "outputs": [
    {
     "name": "stdout",
     "output_type": "stream",
     "text": [
      "head\n",
      "meta\n",
      "meta\n",
      "meta\n",
      "meta\n",
      "meta\n",
      "meta\n",
      "meta\n",
      "meta\n",
      "meta\n",
      "meta\n",
      "meta\n",
      "meta\n",
      "meta\n",
      "meta\n",
      "meta\n",
      "meta\n",
      "meta\n",
      "meta\n",
      "meta\n",
      "meta\n",
      "meta\n",
      "meta\n",
      "meta\n",
      "meta\n",
      "meta\n",
      "meta\n",
      "meta\n",
      "meta\n",
      "meta\n",
      "meta\n",
      "meta\n",
      "meta\n",
      "path\n",
      "path\n",
      "path\n"
     ]
    }
   ],
   "source": [
    "for tag in soup.find_all(re.compile(\"a\")):\n",
    "    print(tag.name)"
   ]
  }
 ],
 "metadata": {
  "kernelspec": {
   "display_name": "Python 3 (ipykernel)",
   "language": "python",
   "name": "python3"
  },
  "language_info": {
   "codemirror_mode": {
    "name": "ipython",
    "version": 3
   },
   "file_extension": ".py",
   "mimetype": "text/x-python",
   "name": "python",
   "nbconvert_exporter": "python",
   "pygments_lexer": "ipython3",
   "version": "3.10.1"
  }
 },
 "nbformat": 4,
 "nbformat_minor": 5
}
